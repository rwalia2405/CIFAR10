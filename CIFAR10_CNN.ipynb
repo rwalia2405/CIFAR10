{
  "nbformat": 4,
  "nbformat_minor": 0,
  "metadata": {
    "colab": {
      "name": "Untitled0.ipynb",
      "provenance": [],
      "authorship_tag": "ABX9TyPFVCcE1Qg/fctcSAnmB37y",
      "include_colab_link": true
    },
    "kernelspec": {
      "name": "python3",
      "display_name": "Python 3"
    },
    "accelerator": "GPU"
  },
  "cells": [
    {
      "cell_type": "markdown",
      "metadata": {
        "id": "view-in-github",
        "colab_type": "text"
      },
      "source": [
        "<a href=\"https://colab.research.google.com/github/rwalia2405/CIFAR10/blob/master/CIFAR10_CNN.ipynb\" target=\"_parent\"><img src=\"https://colab.research.google.com/assets/colab-badge.svg\" alt=\"Open In Colab\"/></a>"
      ]
    },
    {
      "cell_type": "code",
      "metadata": {
        "id": "vahxlnP4pDJt",
        "colab_type": "code",
        "colab": {}
      },
      "source": [
        "import torch\n",
        "import torchvision \n",
        "import torchvision.transforms as transforms"
      ],
      "execution_count": 0,
      "outputs": []
    },
    {
      "cell_type": "code",
      "metadata": {
        "id": "R4NSa0xr3ewk",
        "colab_type": "code",
        "colab": {
          "base_uri": "https://localhost:8080/",
          "height": 34
        },
        "outputId": "ab117f53-a750-4fc7-d4b3-9129288cdc6d"
      },
      "source": [
        "device = torch.device('cuda' if torch.cuda.is_available() else 'cpu')\n",
        "print(device)"
      ],
      "execution_count": 83,
      "outputs": [
        {
          "output_type": "stream",
          "text": [
            "cuda\n"
          ],
          "name": "stdout"
        }
      ]
    },
    {
      "cell_type": "code",
      "metadata": {
        "id": "LVnbzIpxpswe",
        "colab_type": "code",
        "colab": {}
      },
      "source": [
        "transform = transforms.Compose([transforms.ToTensor(),transforms.Normalize((0.5,0.5,0.5),(0.5,0.5,0.5))])"
      ],
      "execution_count": 0,
      "outputs": []
    },
    {
      "cell_type": "markdown",
      "metadata": {
        "id": "iYwcK9SzqTm2",
        "colab_type": "text"
      },
      "source": [
        "loading testing and training data set"
      ]
    },
    {
      "cell_type": "code",
      "metadata": {
        "id": "vxvhk52Oqa8O",
        "colab_type": "code",
        "colab": {
          "base_uri": "https://localhost:8080/",
          "height": 52
        },
        "outputId": "bf2069b4-39ef-40bb-9e72-ca1357b73451"
      },
      "source": [
        "trainset = torchvision.datasets.CIFAR10(root = './data',train=True,transform=transform,download=True)\n",
        "testset = torchvision.datasets.CIFAR10(root='./data',train=False,download=True,transform=transform)\n",
        "trainloader = torch.utils.data.DataLoader(trainset,shuffle=True,batch_size=4,num_workers=2)\n",
        "testloader = torch.utils.data.DataLoader(testset,shuffle=False,num_workers=2,batch_size=4)\n",
        "classes=('plane', 'car', 'bird', 'cat', 'deer', 'dog', 'frog', \n",
        "\t'horse', 'ship', 'truck')"
      ],
      "execution_count": 85,
      "outputs": [
        {
          "output_type": "stream",
          "text": [
            "Files already downloaded and verified\n",
            "Files already downloaded and verified\n"
          ],
          "name": "stdout"
        }
      ]
    },
    {
      "cell_type": "markdown",
      "metadata": {
        "id": "W82iDP3DsCq3",
        "colab_type": "text"
      },
      "source": [
        "defining function to visualise the images"
      ]
    },
    {
      "cell_type": "code",
      "metadata": {
        "id": "tjLMFjBKsUda",
        "colab_type": "code",
        "colab": {}
      },
      "source": [
        "import numpy as np\n",
        "import matplotlib.pyplot as plt\n",
        "def imshow(img):\n",
        "  img = img.cpu()\n",
        "  img = img/2+0.5\n",
        "  npimg = img.numpy()\n",
        "  plt.imshow(np.transpose(npimg,(1,2,0)))\n",
        "  plt.show()"
      ],
      "execution_count": 0,
      "outputs": []
    },
    {
      "cell_type": "markdown",
      "metadata": {
        "id": "g1vKaCBhtc6g",
        "colab_type": "text"
      },
      "source": [
        "visualizing the data"
      ]
    },
    {
      "cell_type": "code",
      "metadata": {
        "id": "MlQG3fNXtgVd",
        "colab_type": "code",
        "colab": {
          "base_uri": "https://localhost:8080/",
          "height": 155
        },
        "outputId": "2a09e598-f9a6-4281-c099-d6d286edc3f8"
      },
      "source": [
        "dataiter = iter(trainloader)\n",
        "images,labels = dataiter.next()\n",
        "\n",
        "imshow(torchvision.utils.make_grid(images))\n",
        "print(' '.join('%5s' %classes[labels[j]] for j in range(4)))\n"
      ],
      "execution_count": 87,
      "outputs": [
        {
          "output_type": "display_data",
          "data": {
            "image/png": "[encoded data removed]",
            "text/plain": [
              "<Figure size 432x288 with 1 Axes>"
            ]
          },
          "metadata": {
            "tags": []
          }
        },
        {
          "output_type": "stream",
          "text": [
            " ship horse horse  frog\n"
          ],
          "name": "stdout"
        }
      ]
    },
    {
      "cell_type": "markdown",
      "metadata": {
        "id": "pIPR62XLw3Sm",
        "colab_type": "text"
      },
      "source": [
        "checking the size of out input image"
      ]
    },
    {
      "cell_type": "code",
      "metadata": {
        "id": "4PC8YxCmwxi9",
        "colab_type": "code",
        "colab": {
          "base_uri": "https://localhost:8080/",
          "height": 34
        },
        "outputId": "3326f6e6-70c0-4c7a-a693-be7f0dbdd626"
      },
      "source": [
        "images[0].shape"
      ],
      "execution_count": 88,
      "outputs": [
        {
          "output_type": "execute_result",
          "data": {
            "text/plain": [
              "torch.Size([3, 32, 32])"
            ]
          },
          "metadata": {
            "tags": []
          },
          "execution_count": 88
        }
      ]
    },
    {
      "cell_type": "markdown",
      "metadata": {
        "id": "11_D7yLfu7-8",
        "colab_type": "text"
      },
      "source": [
        "defining our network"
      ]
    },
    {
      "cell_type": "code",
      "metadata": {
        "id": "oRUDlCT4vEeA",
        "colab_type": "code",
        "colab": {}
      },
      "source": [
        "import torch.nn as nn\n",
        "import torch.nn.functional as F \n",
        "\n",
        "class Net(nn.Module):\n",
        "  def __init__(self):\n",
        "    super(Net,self).__init__()\n",
        "    self.conv1 = nn.Conv2d(3,6,3,padding = 1)\n",
        "    self.pool = nn.MaxPool2d(2,2)\n",
        "    self.conv2 = nn.Conv2d(6,16,3,padding=1)\n",
        "    self.conv3 = nn.Conv2d(16,32,3,padding=1)\n",
        "    self.fc1 = nn.Linear(32*4*4,512)\n",
        "    self.fc2 = nn.Linear(512,84)\n",
        "    self.fc3 = nn.Linear(84,10)\n",
        "    self.dropout = nn.Dropout(p=0.2)\n",
        "\n",
        "  def forward(self,x):\n",
        "    x = self.pool(F.relu(self.conv1(x)))\n",
        "    x = self.pool(F.relu(self.conv2(x)))\n",
        "    x = self.pool(F.relu(self.conv3(x)))\n",
        "    x = x.view(-1,32*4*4)\n",
        "    x = F.relu(self.fc1(x))\n",
        "  #  x = self.dropout(x)\n",
        "    x = F.relu(self.fc2(x))\n",
        " #   x = self.dropout(x)\n",
        "    x = self.fc3(x)\n",
        "    return x  "
      ],
      "execution_count": 0,
      "outputs": []
    },
    {
      "cell_type": "markdown",
      "metadata": {
        "id": "z8P5dvy_yIDI",
        "colab_type": "text"
      },
      "source": [
        "initilizing out network"
      ]
    },
    {
      "cell_type": "code",
      "metadata": {
        "id": "-Fk_LynYyN5w",
        "colab_type": "code",
        "colab": {}
      },
      "source": [
        "net = Net().to(device)"
      ],
      "execution_count": 0,
      "outputs": []
    },
    {
      "cell_type": "markdown",
      "metadata": {
        "id": "e4LTll26yR7r",
        "colab_type": "text"
      },
      "source": [
        "defining loss function and optimizer"
      ]
    },
    {
      "cell_type": "code",
      "metadata": {
        "id": "5E0wGDbFyW4q",
        "colab_type": "code",
        "colab": {}
      },
      "source": [
        "criterion = nn.CrossEntropyLoss()\n",
        "optimizer = torch.optim.SGD(net.parameters(),lr=0.001,momentum=0.9)"
      ],
      "execution_count": 0,
      "outputs": []
    },
    {
      "cell_type": "markdown",
      "metadata": {
        "id": "F1v8tEefzSYq",
        "colab_type": "text"
      },
      "source": [
        "training out network"
      ]
    },
    {
      "cell_type": "code",
      "metadata": {
        "id": "USdpSWzizWna",
        "colab_type": "code",
        "colab": {
          "base_uri": "https://localhost:8080/",
          "height": 555
        },
        "outputId": "f8d91ff1-bd05-4a35-e289-8abe7ad93284"
      },
      "source": [
        "for epoch in range(5):\n",
        "\trunning_loss=0.0\n",
        "\tfor i,data in enumerate(trainloader,0):\n",
        "\t\tinputs,lables=data\n",
        "\t\tinputs = inputs.to(device)\n",
        "\t\tlables = lables.to(device)\n",
        "\t\toptimizer.zero_grad()\n",
        "\t\toutputs=net(inputs)\n",
        "\t\tloss=criterion(outputs,lables)\n",
        "\t\tloss.backward()\n",
        "\t\toptimizer.step()\n",
        "\t\trunning_loss+=loss.item()\n",
        "\t\tif i%2000==1999:\n",
        "\t\t\tprint('[%d, %5d] loss: %3f' %(epoch + 1, i+1,running_loss/2000))\n",
        "\t\t\trunning_loss=0.0\n",
        "print('Finished Training')"
      ],
      "execution_count": 100,
      "outputs": [
        {
          "output_type": "stream",
          "text": [
            "[1,  2000] loss: 1.106697\n",
            "[1,  4000] loss: 1.086700\n",
            "[1,  6000] loss: 1.070552\n",
            "[1,  8000] loss: 1.059115\n",
            "[1, 10000] loss: 1.070686\n",
            "[1, 12000] loss: 1.044809\n",
            "[2,  2000] loss: 0.929253\n",
            "[2,  4000] loss: 0.942635\n",
            "[2,  6000] loss: 0.944038\n",
            "[2,  8000] loss: 0.949263\n",
            "[2, 10000] loss: 0.939995\n",
            "[2, 12000] loss: 0.909997\n",
            "[3,  2000] loss: 0.836867\n",
            "[3,  4000] loss: 0.824367\n",
            "[3,  6000] loss: 0.838791\n",
            "[3,  8000] loss: 0.836457\n",
            "[3, 10000] loss: 0.842469\n",
            "[3, 12000] loss: 0.835705\n",
            "[4,  2000] loss: 0.708599\n",
            "[4,  4000] loss: 0.724714\n",
            "[4,  6000] loss: 0.753846\n",
            "[4,  8000] loss: 0.757928\n",
            "[4, 10000] loss: 0.771667\n",
            "[4, 12000] loss: 0.748911\n",
            "[5,  2000] loss: 0.619418\n",
            "[5,  4000] loss: 0.639285\n",
            "[5,  6000] loss: 0.680843\n",
            "[5,  8000] loss: 0.661819\n",
            "[5, 10000] loss: 0.692895\n",
            "[5, 12000] loss: 0.701135\n",
            "Finished Training\n"
          ],
          "name": "stdout"
        }
      ]
    },
    {
      "cell_type": "markdown",
      "metadata": {
        "id": "vAwGPeuf61Km",
        "colab_type": "text"
      },
      "source": [
        "lets test our model\n"
      ]
    },
    {
      "cell_type": "code",
      "metadata": {
        "id": "TzgdXCuNC3_J",
        "colab_type": "code",
        "colab": {
          "base_uri": "https://localhost:8080/",
          "height": 191
        },
        "outputId": "40174745-8857-4307-caf5-4c4d8dd2bc4b"
      },
      "source": [
        "net.eval()"
      ],
      "execution_count": 101,
      "outputs": [
        {
          "output_type": "execute_result",
          "data": {
            "text/plain": [
              "Net(\n",
              "  (conv1): Conv2d(3, 6, kernel_size=(3, 3), stride=(1, 1), padding=(1, 1))\n",
              "  (pool): MaxPool2d(kernel_size=2, stride=2, padding=0, dilation=1, ceil_mode=False)\n",
              "  (conv2): Conv2d(6, 16, kernel_size=(3, 3), stride=(1, 1), padding=(1, 1))\n",
              "  (conv3): Conv2d(16, 32, kernel_size=(3, 3), stride=(1, 1), padding=(1, 1))\n",
              "  (fc1): Linear(in_features=512, out_features=512, bias=True)\n",
              "  (fc2): Linear(in_features=512, out_features=84, bias=True)\n",
              "  (fc3): Linear(in_features=84, out_features=10, bias=True)\n",
              "  (dropout): Dropout(p=0.2, inplace=False)\n",
              ")"
            ]
          },
          "metadata": {
            "tags": []
          },
          "execution_count": 101
        }
      ]
    },
    {
      "cell_type": "code",
      "metadata": {
        "id": "Hp5r_8A-7FAE",
        "colab_type": "code",
        "colab": {
          "base_uri": "https://localhost:8080/",
          "height": 173
        },
        "outputId": "f529e77c-6a59-45e3-9ec1-090ec33e20af"
      },
      "source": [
        "dataiter = iter(testloader)\n",
        "images,labels = dataiter.next()\n",
        "images=images.to(device)\n",
        "labels=labels.to(device)  \n",
        "imshow(torchvision.utils.make_grid(images))\n",
        "print('GroundTruth : ',' '.join('%5s' %classes[labels[j]] for j in range(4)))\n",
        "\n",
        "with torch.no_grad():\n",
        "  output = net(images)\n",
        "  _,pred = torch.max(output,1)\n",
        "  print('Predicted: ',' '.join('%5s' %classes[pred[j]] for  j in range(4)))"
      ],
      "execution_count": 102,
      "outputs": [
        {
          "output_type": "display_data",
          "data": {
            "image/png": "[encoded data removed]",
            "text/plain": [
              "<Figure size 432x288 with 1 Axes>"
            ]
          },
          "metadata": {
            "tags": []
          }
        },
        {
          "output_type": "stream",
          "text": [
            "GroundTruth :    cat  ship  ship plane\n",
            "Predicted:    cat  ship plane plane\n"
          ],
          "name": "stdout"
        }
      ]
    },
    {
      "cell_type": "markdown",
      "metadata": {
        "id": "woibTvoZ_ETs",
        "colab_type": "text"
      },
      "source": [
        "lets test on whole test dataset and\n",
        "calculate accuracy"
      ]
    },
    {
      "cell_type": "code",
      "metadata": {
        "id": "c_Lu-Ifa_JI0",
        "colab_type": "code",
        "colab": {
          "base_uri": "https://localhost:8080/",
          "height": 34
        },
        "outputId": "742e756f-4836-47d1-86fc-dde1d7b56e9d"
      },
      "source": [
        "correct=0\n",
        "total=0\n",
        "with torch.no_grad():\n",
        "  for (images,labels) in testloader:\n",
        "    images = images.to(device)\n",
        "    labels = labels.to(device)\n",
        "    output = net(images)\n",
        "    _,pred = torch.max(output.data,1)\n",
        "    total += labels.size(0)\n",
        "    correct += (pred==labels).sum().item()\n",
        "\n",
        "print('Accuracy of our model on 10000 test images : %d %%' %(100*correct/total))\n"
      ],
      "execution_count": 103,
      "outputs": [
        {
          "output_type": "stream",
          "text": [
            "Accuracy of our model on 10000 test images : 69 %\n"
          ],
          "name": "stdout"
        }
      ]
    }
  ]
}